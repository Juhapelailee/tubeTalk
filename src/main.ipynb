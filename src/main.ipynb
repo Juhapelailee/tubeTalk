{
 "cells": [
  {
   "cell_type": "code",
   "execution_count": 1,
   "metadata": {
    "executionInfo": {
     "elapsed": 5761,
     "status": "ok",
     "timestamp": 1761596681396,
     "user": {
      "displayName": "Ayush Dhungana",
      "userId": "02134317253512555312"
     },
     "user_tz": 300
    },
    "id": "sl5M4SiVEr7j"
   },
   "outputs": [
    {
     "name": "stdout",
     "output_type": "stream",
     "text": [
      "\n",
      "\u001b[1m[\u001b[0m\u001b[34;49mnotice\u001b[0m\u001b[1;39;49m]\u001b[0m\u001b[39;49m A new release of pip is available: \u001b[0m\u001b[31;49m25.2\u001b[0m\u001b[39;49m -> \u001b[0m\u001b[32;49m25.3\u001b[0m\n",
      "\u001b[1m[\u001b[0m\u001b[34;49mnotice\u001b[0m\u001b[1;39;49m]\u001b[0m\u001b[39;49m To update, run: \u001b[0m\u001b[32;49mpip install --upgrade pip\u001b[0m\n"
     ]
    }
   ],
   "source": [
    "! pip install -q youtube_transcript_api langchain-community faiss-cpu langchain_google_genai"
   ]
  },
  {
   "cell_type": "code",
   "execution_count": 2,
   "metadata": {
    "executionInfo": {
     "elapsed": 23444,
     "status": "ok",
     "timestamp": 1761596709251,
     "user": {
      "displayName": "Ayush Dhungana",
      "userId": "02134317253512555312"
     },
     "user_tz": 300
    },
    "id": "oHzLicgiIh8v"
   },
   "outputs": [
    {
     "name": "stderr",
     "output_type": "stream",
     "text": [
      "/Library/Frameworks/Python.framework/Versions/3.11/lib/python3.11/site-packages/torch/cuda/__init__.py:61: FutureWarning: The pynvml package is deprecated. Please install nvidia-ml-py instead. If you did not install pynvml directly, please report this to the maintainers of the package that installed pynvml for you.\n",
      "  import pynvml  # type: ignore[import]\n"
     ]
    }
   ],
   "source": [
    "from youtube_transcript_api import YouTubeTranscriptApi\n",
    "from langchain_text_splitters import RecursiveCharacterTextSplitter"
   ]
  },
  {
   "cell_type": "markdown",
   "metadata": {
    "id": "tkdb4HP3IUg2"
   },
   "source": [
    "**1. Document Ingestion**"
   ]
  },
  {
   "cell_type": "code",
   "execution_count": 3,
   "metadata": {
    "executionInfo": {
     "elapsed": 872,
     "status": "ok",
     "timestamp": 1761598321170,
     "user": {
      "displayName": "Ayush Dhungana",
      "userId": "02134317253512555312"
     },
     "user_tz": 300
    },
    "id": "Ozk_KambRqfj"
   },
   "outputs": [],
   "source": [
    "# https://www.youtube.com/watch?v=y3cw_9ELpQw\n",
    "video_id = \"y3cw_9ELpQw\"\n",
    "try:\n",
    "  yt = YouTubeTranscriptApi()\n",
    "  transcript = yt.fetch(video_id,languages=['en'])\n",
    "  combined_text = \" \".join(chunk.text for chunk in transcript)\n",
    "  # combined all of the chunked transcripts into one string\n",
    "  # print(combined_text)\n",
    "except TranscriptsDisabled:\n",
    "  print(\"No transcript is available for this video!\")"
   ]
  },
  {
   "cell_type": "markdown",
   "metadata": {
    "id": "WJOySY68Z6qo"
   },
   "source": [
    "**2. Text Splitting**"
   ]
  },
  {
   "cell_type": "code",
   "execution_count": 4,
   "metadata": {
    "colab": {
     "base_uri": "https://localhost:8080/"
    },
    "executionInfo": {
     "elapsed": 26,
     "status": "ok",
     "timestamp": 1761598419405,
     "user": {
      "displayName": "Ayush Dhungana",
      "userId": "02134317253512555312"
     },
     "user_tz": 300
    },
    "id": "edUN8m7oVBKB",
    "outputId": "86871212-9a4b-4f48-953a-bdefcc72e4d6"
   },
   "outputs": [
    {
     "name": "stdout",
     "output_type": "stream",
     "text": [
      "page_content='podcast the supported please check out our sponsors in the description and now dear friends here's Andrew strominger you are part of the Harvard black hole initiative which has theoretical physicists experimentalists and even philosophers so let me ask the big question what is a black hole from a theoretical from an experimental uh maybe even from a philosophical perspective so a black hole is defined theoretically as a region of space-time from which light can never Escape therefore it's black now that's just the starting point many weird things uh follow from that basic definition but that is that is the basic definition what is light they can't escape from a black hole well light is uh you know the stuff that comes out of the Sun that stuff that goes into your eyes light is one of the the stuff that disappears when the lights go off this is stuff that appears when the lights come on um of course that could give you a Beth a medical definition but or physical mathematical definition'\n"
     ]
    }
   ],
   "source": [
    "from langchain_core.documents import Document\n",
    "\n",
    "def split_documents(docs,chunk_size=1000,chunk_overlap=200):\n",
    "  text_splitter = RecursiveCharacterTextSplitter(\n",
    "        chunk_size=chunk_size,\n",
    "        chunk_overlap=chunk_overlap\n",
    "    )\n",
    "\n",
    "  doc = Document(page_content=docs)#creating a document object cause that is what splitter accepts\n",
    "  text_chunks = text_splitter.split_documents([doc])\n",
    "  return text_chunks\n",
    "\n",
    "# print(len(combined_text))\n",
    "split_chunks = split_documents(combined_text)\n",
    "print(split_chunks[1])"
   ]
  },
  {
   "cell_type": "markdown",
   "metadata": {
    "id": "395ybm2BaAqK"
   },
   "source": [
    "**3. Storing the chunks in a vector store**"
   ]
  },
  {
   "cell_type": "code",
   "execution_count": 5,
   "metadata": {
    "colab": {
     "base_uri": "https://localhost:8080/"
    },
    "executionInfo": {
     "elapsed": 3569,
     "status": "ok",
     "timestamp": 1761597895025,
     "user": {
      "displayName": "Ayush Dhungana",
      "userId": "02134317253512555312"
     },
     "user_tz": 300
    },
    "id": "8I9U2ukTaIOV",
    "outputId": "8606be16-1d5f-414e-852d-dc9c46015f24"
   },
   "outputs": [
    {
     "name": "stderr",
     "output_type": "stream",
     "text": [
      "/var/folders/_t/lpctk93j6dggsv6qs4cbgmx40000gn/T/ipykernel_3085/2552114570.py:4: LangChainDeprecationWarning: The class `HuggingFaceEmbeddings` was deprecated in LangChain 0.2.2 and will be removed in 1.0. An updated version of the class exists in the `langchain-huggingface package and should be used instead. To use it run `pip install -U `langchain-huggingface` and import as `from `langchain_huggingface import HuggingFaceEmbeddings``.\n",
      "  embeddings = HuggingFaceEmbeddings(model_name=model_name)\n"
     ]
    },
    {
     "name": "stdout",
     "output_type": "stream",
     "text": [
      "Embeddings model downloaded successfully.\n"
     ]
    }
   ],
   "source": [
    "from langchain_community.embeddings import HuggingFaceEmbeddings\n",
    "\n",
    "def download_embeddings(model_name=\"sentence-transformers/all-MiniLM-L6-v2\"):\n",
    "    embeddings = HuggingFaceEmbeddings(model_name=model_name)\n",
    "    return embeddings\n",
    "\n",
    "embeddings = download_embeddings()\n",
    "print(\"Embeddings model downloaded successfully.\")"
   ]
  },
  {
   "cell_type": "code",
   "execution_count": 6,
   "metadata": {
    "colab": {
     "base_uri": "https://localhost:8080/"
    },
    "executionInfo": {
     "elapsed": 10577,
     "status": "ok",
     "timestamp": 1761598585360,
     "user": {
      "displayName": "Ayush Dhungana",
      "userId": "02134317253512555312"
     },
     "user_tz": 300
    },
    "id": "a6nD45HubLlq",
    "outputId": "4a3dcfa7-c98b-4c18-a0d1-cf454a8d701c"
   },
   "outputs": [],
   "source": [
    "from langchain_community.vectorstores import FAISS\n",
    "vector_store = FAISS.from_documents(split_chunks,embeddings)\n",
    "#convert the given chunks to respective vectors ; the vector ids are different every time!\n",
    "\n",
    "# print(vector_store.index_to_docstore_id)\n",
    "# chunks are respe"
   ]
  },
  {
   "cell_type": "code",
   "execution_count": 7,
   "metadata": {
    "colab": {
     "base_uri": "https://localhost:8080/"
    },
    "executionInfo": {
     "elapsed": 17,
     "status": "ok",
     "timestamp": 1761598629573,
     "user": {
      "displayName": "Ayush Dhungana",
      "userId": "02134317253512555312"
     },
     "user_tz": 300
    },
    "id": "xbejXXzjdb_B",
    "outputId": "00a177a6-f13e-46ef-b9ff-1108ff186c52"
   },
   "outputs": [
    {
     "data": {
      "text/plain": [
       "[]"
      ]
     },
     "execution_count": 7,
     "metadata": {},
     "output_type": "execute_result"
    }
   ],
   "source": [
    "vector_store.get_by_ids(['e5be311d-0356-4186-a8ed-574653cc8126'])"
   ]
  },
  {
   "cell_type": "markdown",
   "metadata": {
    "id": "cbZ4Cx0Ohsnh"
   },
   "source": [
    "**RETRIEVER**"
   ]
  },
  {
   "cell_type": "code",
   "execution_count": 8,
   "metadata": {
    "colab": {
     "base_uri": "https://localhost:8080/"
    },
    "executionInfo": {
     "elapsed": 22,
     "status": "ok",
     "timestamp": 1761599979958,
     "user": {
      "displayName": "Ayush Dhungana",
      "userId": "02134317253512555312"
     },
     "user_tz": 300
    },
    "id": "LxUs2DRJhyt4",
    "outputId": "6a585362-85ce-4edf-d7f4-be27e7cff50c"
   },
   "outputs": [
    {
     "data": {
      "text/plain": [
       "[Document(id='daab8d97-56c6-4c5e-afa2-975de2c21330', metadata={}, page_content=\"podcast the supported please check out our sponsors in the description and now dear friends here's Andrew strominger you are part of the Harvard black hole initiative which has theoretical physicists experimentalists and even philosophers so let me ask the big question what is a black hole from a theoretical from an experimental uh maybe even from a philosophical perspective so a black hole is defined theoretically as a region of space-time from which light can never Escape therefore it's black now that's just the starting point many weird things uh follow from that basic definition but that is that is the basic definition what is light they can't escape from a black hole well light is uh you know the stuff that comes out of the Sun that stuff that goes into your eyes light is one of the the stuff that disappears when the lights go off this is stuff that appears when the lights come on um of course that could give you a Beth a medical definition but or physical mathematical definition\"),\n",
       " Document(id='3fc415be-c1cc-4c97-a6e3-aa9212cf5cf3', metadata={}, page_content=\"stuff that disappears when the lights go off this is stuff that appears when the lights come on um of course that could give you a Beth a medical definition but or physical mathematical definition but I think it's something that we uh will understand very intuitively what is light black holes on the other hand we don't understand intuitively they're very weird and one of the questions is about black holes which I think you were alluding to is you know why doesn't light get out or how is it that there can be a region of space-time from which light can't escape it definitely happens we've seen those regions we have spectacular pictures especially in the last several years of those regions um they're there in fact they're up in the sky thousands or millions of them we don't yet know how many um but the proper explanation of why light doesn't escape from uh a black hole is still a matter of some debate um and one explanation which perhaps Einstein might have given is that light carries\"),\n",
       " Document(id='a13c59bd-7b3a-4f07-8d71-e1ace55eda92', metadata={}, page_content=\"a black hole is a mirror and the way it's a mirror is if light a photon bounces off your face towards the black hole and it goes straight to the black hole just Falls in you never see it again but if it just misses the black hole it'll swing around the back and come back to you and you see yourself from the photon that went around the back of the black hole but not only can that happen the black hole the photon can swing around twice and come back so you actually see an infinite number of copies of yourself the following is a conversation with Andrew strominger theoretical physicist at Harvard whose research seeks to shed light on the unification of fundamental laws of nature the origin of the universe and the quantum structure of black holes and event Horizons this is the Lux Friedman podcast the supported please check out our sponsors in the description and now dear friends here's Andrew strominger you are part of the Harvard black hole initiative which has theoretical physicists\")]"
      ]
     },
     "execution_count": 8,
     "metadata": {},
     "output_type": "execute_result"
    }
   ],
   "source": [
    "retriever = vector_store.as_retriever(search_type=\"similarity\",search_kwargs={\"k\":3})\n",
    "#using same vector store as a retriever which searches for semantic similarity and outputs 3 relevant blocks ;\n",
    "retriever.invoke(\"what is blackhole ? \")"
   ]
  },
  {
   "cell_type": "markdown",
   "metadata": {
    "id": "QELzKyttjRN7"
   },
   "source": [
    "**Setting up LLM**"
   ]
  },
  {
   "cell_type": "code",
   "execution_count": 9,
   "metadata": {
    "colab": {
     "base_uri": "https://localhost:8080/",
     "height": 1000
    },
    "executionInfo": {
     "elapsed": 18862,
     "status": "error",
     "timestamp": 1761600508763,
     "user": {
      "displayName": "Ayush Dhungana",
      "userId": "02134317253512555312"
     },
     "user_tz": 300
    },
    "id": "Or3R5-icjQy4",
    "outputId": "769096d1-b9bb-429b-94d3-b1af45e29e9b"
   },
   "outputs": [],
   "source": [
    "from langchain_google_genai import GoogleGenerativeAI\n",
    "from langchain_core.prompts import PromptTemplate\n",
    "\n",
    "from dotenv import load_dotenv\n",
    "import os\n",
    "load_dotenv()\n",
    "\n",
    "api_key = os.getenv(\"GEMINI_API_KEY\")\n",
    "os.environ[\"GOOGLE_API_KEY\"] = api_key\n",
    "\n",
    "\n",
    "llm = GoogleGenerativeAI(model=\"gemini-2.5-flash\")\n",
    "\n",
    "# print(result)\n",
    "\n",
    "prompt_template = PromptTemplate(\n",
    "    template=\"\"\"\n",
    "    You are a helpful assistant.\n",
    "    Answer ONLY from the provided transcript context of the video.\n",
    "    If the context is insufficient, just say that you donot know the answer.\n",
    "    Context: {context}\n",
    "    Question: {question}\n",
    "    \"\"\",\n",
    "    input_variables=[\"context\", \"question\"]\n",
    ")\n",
    "#efficient prompt for llm questioning!"
   ]
  },
  {
   "cell_type": "code",
   "execution_count": 10,
   "metadata": {},
   "outputs": [
    {
     "name": "stdout",
     "output_type": "stream",
     "text": [
      "theory of general relativity and corrected it but we couldn't do any better with black holes than um before my work with command we couldn't do any better than Einstein and tortill had done now um one of the puzzles um you know if you look at the Hawking's headstone and also Boltzmann's headstone and you put them together you get a formula for their really Central equations in 20th century physics I don't think there are many equations that made it to headstones and and they're really Central equations and you put them together and you get a formula for the number of gigabytes in a black hole now a short shelves description the black hole is literally a hole in space and there's no place to store the gigabytes and it's not too hard to and this really was wheeler and beckenstein and wheeler beckenstein and Hawking to come to the conclusion that if there isn't a sense in which a black hole can store some large number of gigabytes that quantum mechanics and gravity can't be consistent we\n",
      "\n",
      "yeah it was all correct but but mathematically clumsy but it often happens that in all kinds of branches of physics that um people start working on it really hard and they sort of dream about it and live it and breathe it and they begin to see inner relationships and they see a beauty that is really there they're not they're not deceived they're really seeing something that exists but if you just kind of look at it you know you can't you can't grasp it all in the beginning and and um so our understanding of string theory in uh uh in 1985 was almost all about uh you know weekly coupled waves of strings colliding and so on we didn't know how to describe a big thing like a black hole and so you know in string theory of course we could show that strings in theory in some limit reproduced Einstein's theory of general relativity and corrected it but we couldn't do any better with black holes than um before my work with command we couldn't do any better than Einstein and tortill had done now\n",
      "\n",
      "podcast the supported please check out our sponsors in the description and now dear friends here's Andrew strominger you are part of the Harvard black hole initiative which has theoretical physicists experimentalists and even philosophers so let me ask the big question what is a black hole from a theoretical from an experimental uh maybe even from a philosophical perspective so a black hole is defined theoretically as a region of space-time from which light can never Escape therefore it's black now that's just the starting point many weird things uh follow from that basic definition but that is that is the basic definition what is light they can't escape from a black hole well light is uh you know the stuff that comes out of the Sun that stuff that goes into your eyes light is one of the the stuff that disappears when the lights go off this is stuff that appears when the lights come on um of course that could give you a Beth a medical definition but or physical mathematical definition\n"
     ]
    }
   ],
   "source": [
    "retrieved_docs = retriever.invoke(\"is blackhole discussed here ?\")\n",
    "context_text = \"\\n\\n\".join(content.page_content for content in retrieved_docs)\n",
    "print(context_text)\n",
    "question = \"is blackhole discussed in the video ? \"\n",
    "#so basically if the context retrieved is not flawless, the answer of the LLM wouldn't be good ; so it all depends upon the context provided by the retriever!"
   ]
  },
  {
   "cell_type": "code",
   "execution_count": 11,
   "metadata": {},
   "outputs": [],
   "source": [
    "prompt = prompt_template.invoke({\"context\":context_text,\"question\":question})"
   ]
  },
  {
   "cell_type": "markdown",
   "metadata": {},
   "source": [
    "GENERATION"
   ]
  },
  {
   "cell_type": "code",
   "execution_count": 12,
   "metadata": {},
   "outputs": [
    {
     "name": "stdout",
     "output_type": "stream",
     "text": [
      "Yes, black holes are discussed in the video. The definition of a black hole is provided, and its relationship to string theory and general relativity is mentioned.\n"
     ]
    }
   ],
   "source": [
    "answer = llm.invoke(prompt)\n",
    "print(answer)"
   ]
  },
  {
   "cell_type": "code",
   "execution_count": null,
   "metadata": {},
   "outputs": [],
   "source": []
  }
 ],
 "metadata": {
  "colab": {
   "authorship_tag": "ABX9TyOHMzDJsvOWiZ59TeVlejda",
   "provenance": []
  },
  "kernelspec": {
   "display_name": "Python 3",
   "name": "python3"
  },
  "language_info": {
   "codemirror_mode": {
    "name": "ipython",
    "version": 3
   },
   "file_extension": ".py",
   "mimetype": "text/x-python",
   "name": "python",
   "nbconvert_exporter": "python",
   "pygments_lexer": "ipython3",
   "version": "3.11.4"
  }
 },
 "nbformat": 4,
 "nbformat_minor": 0
}
